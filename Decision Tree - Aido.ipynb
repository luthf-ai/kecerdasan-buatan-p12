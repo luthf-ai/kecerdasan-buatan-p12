{
 "cells": [
  {
   "cell_type": "markdown",
   "id": "fad3d9eb",
   "metadata": {},
   "source": [
    "# JOBSHEET 14\n",
    "## Decision Tree(Pohon Keputusan)\n",
    "#### NAMA : AIDO LUTHFI AL HAKIM\n",
    "#### KELAS : 2C-TI\n",
    "#### ABSEN : 01\n",
    "#### NIM : 2141720136\n",
    "#### GITHUB : "
   ]
  },
  {
   "cell_type": "markdown",
   "id": "68fd68b4",
   "metadata": {},
   "source": [
    "## PRAKTIKUM"
   ]
  },
  {
   "cell_type": "code",
   "execution_count": 1,
   "id": "29aa05f4",
   "metadata": {},
   "outputs": [],
   "source": [
    "import numpy as np\n",
    "import pandas as pd\n",
    "eps = np.finfo(float).eps\n",
    "from numpy import log2 as log"
   ]
  },
  {
   "cell_type": "code",
   "execution_count": 2,
   "id": "e6d956ae",
   "metadata": {},
   "outputs": [],
   "source": [
    "outlook = 'overcast,overcast,overcast,overcast,rainy,rainy,rainy,rainy,rainy,sunny,sunny,sunny,sunny,sunny'.split(',')\n",
    "temp = 'hot,cool,mild,hot,mild,cool,cool,mild,mild,hot,hot,mild,cool,mild'.split(',')\n",
    "humidity ='high,normal,high,normal,high,normal,normal,normal,high,high,high,high,normal,normal'.split(',')\n",
    "windy = 'FALSE,TRUE,TRUE,FALSE,FALSE,FALSE,TRUE,FALSE,TRUE,FALSE,TRUE,FALSE,FALSE,TRUE'.split(',')\n",
    "play = 'yes,yes,yes,yes,yes,yes,no,yes,no,no,no,no,yes,yes'.split(',')"
   ]
  },
  {
   "cell_type": "code",
   "execution_count": 3,
   "id": "d1e7f403",
   "metadata": {},
   "outputs": [
    {
     "data": {
      "text/html": [
       "<div>\n",
       "<style scoped>\n",
       "    .dataframe tbody tr th:only-of-type {\n",
       "        vertical-align: middle;\n",
       "    }\n",
       "\n",
       "    .dataframe tbody tr th {\n",
       "        vertical-align: top;\n",
       "    }\n",
       "\n",
       "    .dataframe thead th {\n",
       "        text-align: right;\n",
       "    }\n",
       "</style>\n",
       "<table border=\"1\" class=\"dataframe\">\n",
       "  <thead>\n",
       "    <tr style=\"text-align: right;\">\n",
       "      <th></th>\n",
       "      <th>outlook</th>\n",
       "      <th>temp</th>\n",
       "      <th>humidity</th>\n",
       "      <th>windy</th>\n",
       "      <th>play</th>\n",
       "    </tr>\n",
       "  </thead>\n",
       "  <tbody>\n",
       "    <tr>\n",
       "      <th>0</th>\n",
       "      <td>overcast</td>\n",
       "      <td>hot</td>\n",
       "      <td>high</td>\n",
       "      <td>FALSE</td>\n",
       "      <td>yes</td>\n",
       "    </tr>\n",
       "    <tr>\n",
       "      <th>1</th>\n",
       "      <td>overcast</td>\n",
       "      <td>cool</td>\n",
       "      <td>normal</td>\n",
       "      <td>TRUE</td>\n",
       "      <td>yes</td>\n",
       "    </tr>\n",
       "    <tr>\n",
       "      <th>2</th>\n",
       "      <td>overcast</td>\n",
       "      <td>mild</td>\n",
       "      <td>high</td>\n",
       "      <td>TRUE</td>\n",
       "      <td>yes</td>\n",
       "    </tr>\n",
       "    <tr>\n",
       "      <th>3</th>\n",
       "      <td>overcast</td>\n",
       "      <td>hot</td>\n",
       "      <td>normal</td>\n",
       "      <td>FALSE</td>\n",
       "      <td>yes</td>\n",
       "    </tr>\n",
       "    <tr>\n",
       "      <th>4</th>\n",
       "      <td>rainy</td>\n",
       "      <td>mild</td>\n",
       "      <td>high</td>\n",
       "      <td>FALSE</td>\n",
       "      <td>yes</td>\n",
       "    </tr>\n",
       "    <tr>\n",
       "      <th>5</th>\n",
       "      <td>rainy</td>\n",
       "      <td>cool</td>\n",
       "      <td>normal</td>\n",
       "      <td>FALSE</td>\n",
       "      <td>yes</td>\n",
       "    </tr>\n",
       "    <tr>\n",
       "      <th>6</th>\n",
       "      <td>rainy</td>\n",
       "      <td>cool</td>\n",
       "      <td>normal</td>\n",
       "      <td>TRUE</td>\n",
       "      <td>no</td>\n",
       "    </tr>\n",
       "    <tr>\n",
       "      <th>7</th>\n",
       "      <td>rainy</td>\n",
       "      <td>mild</td>\n",
       "      <td>normal</td>\n",
       "      <td>FALSE</td>\n",
       "      <td>yes</td>\n",
       "    </tr>\n",
       "    <tr>\n",
       "      <th>8</th>\n",
       "      <td>rainy</td>\n",
       "      <td>mild</td>\n",
       "      <td>high</td>\n",
       "      <td>TRUE</td>\n",
       "      <td>no</td>\n",
       "    </tr>\n",
       "    <tr>\n",
       "      <th>9</th>\n",
       "      <td>sunny</td>\n",
       "      <td>hot</td>\n",
       "      <td>high</td>\n",
       "      <td>FALSE</td>\n",
       "      <td>no</td>\n",
       "    </tr>\n",
       "    <tr>\n",
       "      <th>10</th>\n",
       "      <td>sunny</td>\n",
       "      <td>hot</td>\n",
       "      <td>high</td>\n",
       "      <td>TRUE</td>\n",
       "      <td>no</td>\n",
       "    </tr>\n",
       "    <tr>\n",
       "      <th>11</th>\n",
       "      <td>sunny</td>\n",
       "      <td>mild</td>\n",
       "      <td>high</td>\n",
       "      <td>FALSE</td>\n",
       "      <td>no</td>\n",
       "    </tr>\n",
       "    <tr>\n",
       "      <th>12</th>\n",
       "      <td>sunny</td>\n",
       "      <td>cool</td>\n",
       "      <td>normal</td>\n",
       "      <td>FALSE</td>\n",
       "      <td>yes</td>\n",
       "    </tr>\n",
       "    <tr>\n",
       "      <th>13</th>\n",
       "      <td>sunny</td>\n",
       "      <td>mild</td>\n",
       "      <td>normal</td>\n",
       "      <td>TRUE</td>\n",
       "      <td>yes</td>\n",
       "    </tr>\n",
       "  </tbody>\n",
       "</table>\n",
       "</div>"
      ],
      "text/plain": [
       "     outlook  temp humidity  windy play\n",
       "0   overcast   hot     high  FALSE  yes\n",
       "1   overcast  cool   normal   TRUE  yes\n",
       "2   overcast  mild     high   TRUE  yes\n",
       "3   overcast   hot   normal  FALSE  yes\n",
       "4      rainy  mild     high  FALSE  yes\n",
       "5      rainy  cool   normal  FALSE  yes\n",
       "6      rainy  cool   normal   TRUE   no\n",
       "7      rainy  mild   normal  FALSE  yes\n",
       "8      rainy  mild     high   TRUE   no\n",
       "9      sunny   hot     high  FALSE   no\n",
       "10     sunny   hot     high   TRUE   no\n",
       "11     sunny  mild     high  FALSE   no\n",
       "12     sunny  cool   normal  FALSE  yes\n",
       "13     sunny  mild   normal   TRUE  yes"
      ]
     },
     "execution_count": 3,
     "metadata": {},
     "output_type": "execute_result"
    }
   ],
   "source": [
    "dataset ={ 'outlook':outlook, 'temp':temp, 'humidity':humidity, 'windy':windy, 'play':play }\n",
    "df = pd.DataFrame(dataset,columns=['outlook','temp','humidity','windy','play'])\n",
    "df"
   ]
  },
  {
   "cell_type": "code",
   "execution_count": 4,
   "id": "dcc4918e",
   "metadata": {},
   "outputs": [
    {
     "data": {
      "text/plain": [
       "0.9402859586706311"
      ]
     },
     "execution_count": 4,
     "metadata": {},
     "output_type": "execute_result"
    }
   ],
   "source": [
    "entropy_node = 0\n",
    "values = df.play.unique()\n",
    "for value in values:\n",
    "  fraction = df.play.value_counts()[value]/len(df.play)\n",
    "  entropy_node += -fraction*np.log2(fraction)\n",
    "entropy_node"
   ]
  },
  {
   "cell_type": "code",
   "execution_count": 9,
   "id": "e12a4f38",
   "metadata": {},
   "outputs": [],
   "source": [
    "def ent(df,attribute):\n",
    "    target_variables = df.play.unique()\n",
    "    variables = df[attribute].unique()\n",
    "\n",
    "    entropy_attribute = 0\n",
    "    for variable in variables:\n",
    "        entropy_each_future = 0\n",
    "        for target_variable in target_variables:\n",
    "            num = len(df[attribute][df[attribute]==variable][df.play == target_variable])\n",
    "            den = len(df[attribute][df[attribute]==variable])\n",
    "            fraction = num/(den+eps)\n",
    "            entropy_each_future += -fraction*log(fraction+eps)\n",
    "        fraction2 = den/len(df)\n",
    "        entropy_attribute += -fraction2*entropy_each_future\n",
    "\n",
    "    return(abs(entropy_attribute))"
   ]
  },
  {
   "cell_type": "code",
   "execution_count": 10,
   "id": "2ca86ad8",
   "metadata": {},
   "outputs": [
    {
     "data": {
      "text/plain": [
       "{'outlook': 0.6935361388961914,\n",
       " 'temp': 0.9110633930116756,\n",
       " 'humidity': 0.7884504573082889,\n",
       " 'windy': 0.892158928262361}"
      ]
     },
     "execution_count": 10,
     "metadata": {},
     "output_type": "execute_result"
    }
   ],
   "source": [
    "a_entropy = {k:ent(df,k) for k in df.keys()[:-1]}\n",
    "a_entropy"
   ]
  },
  {
   "cell_type": "code",
   "execution_count": 11,
   "id": "837e89db",
   "metadata": {},
   "outputs": [
    {
     "data": {
      "text/plain": [
       "{'outlook': 0.24674981977443977,\n",
       " 'temp': 0.029222565658955535,\n",
       " 'humidity': 0.15183550136234225,\n",
       " 'windy': 0.048127030408270155}"
      ]
     },
     "execution_count": 11,
     "metadata": {},
     "output_type": "execute_result"
    }
   ],
   "source": [
    "def ig(e_dataset,e_attribute):\n",
    "    return (e_dataset-e_attribute)\n",
    "IG = {k:ig(entropy_node,a_entropy[k]) for k in a_entropy}\n",
    "IG"
   ]
  },
  {
   "cell_type": "markdown",
   "id": "f9e3f5a8",
   "metadata": {},
   "source": [
    "## COMPLETED CODE"
   ]
  },
  {
   "cell_type": "code",
   "execution_count": 12,
   "id": "26e8a9df",
   "metadata": {},
   "outputs": [],
   "source": [
    "import numpy as np\n",
    "import pandas as pd\n",
    "eps = np.finfo(float).eps\n",
    "from numpy import log2 as log\n",
    "\n",
    "outlook = 'overcast,overcast,overcast,overcast,rainy,rainy,rainy,rainy,rainy,sunny,sunny,sunny,sunny,sunny'.split(',')\n",
    "temp = 'hot,cool,mild,hot,mild,cool,cool,mild,mild,hot,hot,mild,cool,mild'.split(',')\n",
    "humidity = 'high,normal,high,normal,high,normal,normal,normal,high,high,high,high,normal,normal'.split(',')\n",
    "windy = 'FALSE,TRUE,TRUE,FALSE,FALSE,FALSE,TRUE,FALSE,TRUE,FALSE,TRUE,FALSE,FALSE,TRUE'.split(',')\n",
    "play = 'yes,yes,yes,yes,yes,yes,no,yes,no,no,no,no,yes,yes'.split(',')\n",
    "\n",
    "dataset = {'outlook':outlook,'temp':temp,'humidity':humidity,'windy':windy,'play':play}\n",
    "df = pd.DataFrame(dataset,columns=['outlook','temp','humidity','windy','play'])\n",
    "\n",
    "def find_entropy(df): #the formula is -p(x)log(p(x))\n",
    "    Class = df.keys()[-1]   #To make the code generic, changing target variable class name\n",
    "    entropy = 0\n",
    "    values = df[Class].unique()\n",
    "    for value in values:\n",
    "        fraction = df[Class].value_counts()[value]/len(df[Class])\n",
    "        entropy += -fraction*np.log2(fraction) \n",
    "    return entropy\n",
    "\n",
    "def find_entropy_attribute(df,attribute): #the formula is -p(x)log(p(x)) where x is the attribute, p(x) is the probability of x, and log is the log base 2\n",
    "    Class = df.keys()[-1]   #To make the code generic, changing target variable class name\n",
    "    target_variables = df[Class].unique()  #This gives all 'Yes' and 'No'\n",
    "    variables = df[attribute].unique()    #This gives different features in that attribute (like 'Hot','Cold' in Temperature)\n",
    "    entropy2 = 0\n",
    "    for variable in variables:\n",
    "        entropy = 0\n",
    "        for target_variable in target_variables:\n",
    "            num = len(df[attribute][df[attribute]==variable][df[Class] ==target_variable])\n",
    "            den = len(df[attribute][df[attribute]==variable])\n",
    "            fraction = num/(den+eps)\n",
    "            entropy += -fraction*log(fraction+eps)\n",
    "        fraction2 = den/len(df)\n",
    "        entropy2 += -fraction2*entropy\n",
    "    return abs(entropy2)\n",
    "\n",
    "def find_winner(df):\n",
    "    Entropy_att = []\n",
    "    IG = []\n",
    "    for key in df.keys()[:-1]:\n",
    "        IG.append(find_entropy(df)-find_entropy_attribute(df,key))\n",
    "    return df.keys()[:-1][np.argmax(IG)]\n",
    "\n",
    "def get_subtable(df,node,value):\n",
    "    return df[df[node] == value].reset_index(drop=True)\n",
    "\n",
    "def buildTree(df,tree=None):\n",
    "    Class = df.keys()[-1]   #To make the code generic, changing target variable class name\n",
    "    #Get attribute with maximum information gain\n",
    "    node = find_winner(df)\n",
    "    #Get distinct value of that attribute e.g Salary is node and Low,Med and High are values\n",
    "    attValue = np.unique(df[node])\n",
    "    #Create an empty dictionary to create tree\n",
    "    if tree is None:\n",
    "        tree={}\n",
    "        tree[node] = {}\n",
    "    #We make loop to construct a tree by calling this function recursively.\n",
    "    #In this we check if the subset is pure and stops if it is pure.\n",
    "    for value in attValue:\n",
    "        subtable = get_subtable(df,node,value)\n",
    "        clValue,counts = np.unique(subtable['play'],return_counts=True)\n",
    "        if len(counts)==1: #Checking purity of subset\n",
    "            tree[node][value] = clValue[0]\n",
    "        else:\n",
    "            tree[node][value] = buildTree(subtable) #Calling the function recursively\n",
    "    return tree"
   ]
  },
  {
   "cell_type": "code",
   "execution_count": 13,
   "id": "641c642d",
   "metadata": {},
   "outputs": [
    {
     "name": "stdout",
     "output_type": "stream",
     "text": [
      "{'outlook': {'overcast': 'yes',\n",
      "             'rainy': {'windy': {'FALSE': 'yes', 'TRUE': 'no'}},\n",
      "             'sunny': {'humidity': {'high': 'no', 'normal': 'yes'}}}}\n"
     ]
    }
   ],
   "source": [
    "t = buildTree(df)\n",
    "import pprint\n",
    "pprint.pprint(t)\n"
   ]
  },
  {
   "cell_type": "markdown",
   "id": "ac940f0a",
   "metadata": {},
   "source": [
    "## SOAL\n",
    "#### Apakah rumus entrophy di ppt sama dengan yang di jobsheet\n",
    "\n",
    "## JAWAB\n",
    "#### Pada praktikum diatas rumus untuk setiap entrophy  adalah -p(x)log(p(x)), dimana x adalah atribut, p(x) adalah probabilitas dari x, dan log merupakan log base 2, sedangkan pada materi juga sama, jadi rumus entrophy pada praktikum sama dengan rumus entrophy pada materi."
   ]
  },
  {
   "cell_type": "code",
   "execution_count": null,
   "id": "1b3ddd0a",
   "metadata": {},
   "outputs": [],
   "source": []
  }
 ],
 "metadata": {
  "kernelspec": {
   "display_name": "Python 3 (ipykernel)",
   "language": "python",
   "name": "python3"
  },
  "language_info": {
   "codemirror_mode": {
    "name": "ipython",
    "version": 3
   },
   "file_extension": ".py",
   "mimetype": "text/x-python",
   "name": "python",
   "nbconvert_exporter": "python",
   "pygments_lexer": "ipython3",
   "version": "3.9.13"
  },
  "vscode": {
   "interpreter": {
    "hash": "44a6967a4f64c6f0b2def69ea76a6089b1a3c2fff90878d7452103903aa0d7fe"
   }
  }
 },
 "nbformat": 4,
 "nbformat_minor": 5
}
